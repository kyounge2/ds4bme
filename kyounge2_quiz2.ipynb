{
  "nbformat": 4,
  "nbformat_minor": 0,
  "metadata": {
    "colab": {
      "name": "kyounge2_quiz2.ipynb",
      "version": "0.3.2",
      "provenance": [],
      "include_colab_link": true
    },
    "kernelspec": {
      "name": "python3",
      "display_name": "Python 3"
    }
  },
  "cells": [
    {
      "cell_type": "markdown",
      "metadata": {
        "id": "view-in-github",
        "colab_type": "text"
      },
      "source": [
        "<a href=\"https://colab.research.google.com/github/kyounge2/my_ds4bme/blob/master/kyounge2_quiz2.ipynb\" target=\"_parent\"><img src=\"https://colab.research.google.com/assets/colab-badge.svg\" alt=\"Open In Colab\"/></a>"
      ]
    },
    {
      "cell_type": "markdown",
      "metadata": {
        "id": "1yixG3bS99us",
        "colab_type": "text"
      },
      "source": [
        "# Quiz 2\n",
        "\n",
        "**Question 1**\n",
        "Minimizing $\\sum_{i=1}^{n} (Y_i - \\beta_1 X_{i1} - \\beta_2 X_{i2} - ... - \\beta_p X_{ip})^2$, where each $X_{ik}$ of the form $X_{ik} = \\mathbb{1}(i \\in G_k)$. Argue that the prediction for a person in group $k$ is $\\bar{Y}^{(k)}$.\n",
        "\n",
        "**This question is answered in the image \"question1.jpg\"**"
      ]
    },
    {
      "cell_type": "markdown",
      "metadata": {
        "id": "a-t3tU-fSY-h",
        "colab_type": "text"
      },
      "source": [
        "**Question 2**\n",
        "Linear regression model to predict the left diencephalon volume from the right (type I level I)."
      ]
    },
    {
      "cell_type": "code",
      "metadata": {
        "id": "oN8B9avb8K1D",
        "colab_type": "code",
        "colab": {}
      },
      "source": [
        "import numpy as np\n",
        "from scipy import stats as st\n",
        "import pandas as pd\n",
        "import seaborn as sb\n",
        "import matplotlib.pyplot as plt\n",
        "\n",
        "#load in Kirby 21 data\n",
        "! if [ ! -e kirby21.csv ]; \\\n",
        "then wget https://raw.githubusercontent.com/bcaffo/ds4bme_intro/master/data/kirby21.csv; \\\n",
        "fi;\n",
        "\n",
        "dt = pd.read_csv(\"kirby21.csv\") "
      ],
      "execution_count": 0,
      "outputs": []
    },
    {
      "cell_type": "code",
      "metadata": {
        "id": "YqFRNEgzU6vv",
        "colab_type": "code",
        "colab": {
          "base_uri": "https://localhost:8080/",
          "height": 232
        },
        "outputId": "34dc7dae-2501-45b0-da10-a2e62dc9c3aa"
      },
      "source": [
        "dt.head()"
      ],
      "execution_count": 20,
      "outputs": [
        {
          "output_type": "execute_result",
          "data": {
            "text/html": [
              "<div>\n",
              "<style scoped>\n",
              "    .dataframe tbody tr th:only-of-type {\n",
              "        vertical-align: middle;\n",
              "    }\n",
              "\n",
              "    .dataframe tbody tr th {\n",
              "        vertical-align: top;\n",
              "    }\n",
              "\n",
              "    .dataframe thead th {\n",
              "        text-align: right;\n",
              "    }\n",
              "</style>\n",
              "<table border=\"1\" class=\"dataframe\">\n",
              "  <thead>\n",
              "    <tr style=\"text-align: right;\">\n",
              "      <th></th>\n",
              "      <th>Unnamed: 0</th>\n",
              "      <th>rawid</th>\n",
              "      <th>roi</th>\n",
              "      <th>volume</th>\n",
              "      <th>min</th>\n",
              "      <th>max</th>\n",
              "      <th>mean</th>\n",
              "      <th>std</th>\n",
              "      <th>type</th>\n",
              "      <th>level</th>\n",
              "      <th>id</th>\n",
              "      <th>icv</th>\n",
              "      <th>tbv</th>\n",
              "    </tr>\n",
              "  </thead>\n",
              "  <tbody>\n",
              "    <tr>\n",
              "      <th>0</th>\n",
              "      <td>1</td>\n",
              "      <td>kirby127a_3_1_ax.img</td>\n",
              "      <td>Telencephalon_L</td>\n",
              "      <td>531111</td>\n",
              "      <td>0.0</td>\n",
              "      <td>374.0</td>\n",
              "      <td>128.3013</td>\n",
              "      <td>51.8593</td>\n",
              "      <td>1</td>\n",
              "      <td>1</td>\n",
              "      <td>127</td>\n",
              "      <td>1378295</td>\n",
              "      <td>1268519</td>\n",
              "    </tr>\n",
              "    <tr>\n",
              "      <th>1</th>\n",
              "      <td>2</td>\n",
              "      <td>kirby127a_3_1_ax.img</td>\n",
              "      <td>Telencephalon_R</td>\n",
              "      <td>543404</td>\n",
              "      <td>0.0</td>\n",
              "      <td>300.0</td>\n",
              "      <td>135.0683</td>\n",
              "      <td>53.6471</td>\n",
              "      <td>1</td>\n",
              "      <td>1</td>\n",
              "      <td>127</td>\n",
              "      <td>1378295</td>\n",
              "      <td>1268519</td>\n",
              "    </tr>\n",
              "    <tr>\n",
              "      <th>2</th>\n",
              "      <td>3</td>\n",
              "      <td>kirby127a_3_1_ax.img</td>\n",
              "      <td>Diencephalon_L</td>\n",
              "      <td>9683</td>\n",
              "      <td>15.0</td>\n",
              "      <td>295.0</td>\n",
              "      <td>193.5488</td>\n",
              "      <td>32.2733</td>\n",
              "      <td>1</td>\n",
              "      <td>1</td>\n",
              "      <td>127</td>\n",
              "      <td>1378295</td>\n",
              "      <td>1268519</td>\n",
              "    </tr>\n",
              "    <tr>\n",
              "      <th>3</th>\n",
              "      <td>4</td>\n",
              "      <td>kirby127a_3_1_ax.img</td>\n",
              "      <td>Diencephalon_R</td>\n",
              "      <td>9678</td>\n",
              "      <td>10.0</td>\n",
              "      <td>335.0</td>\n",
              "      <td>193.7051</td>\n",
              "      <td>32.7869</td>\n",
              "      <td>1</td>\n",
              "      <td>1</td>\n",
              "      <td>127</td>\n",
              "      <td>1378295</td>\n",
              "      <td>1268519</td>\n",
              "    </tr>\n",
              "    <tr>\n",
              "      <th>4</th>\n",
              "      <td>5</td>\n",
              "      <td>kirby127a_3_1_ax.img</td>\n",
              "      <td>Mesencephalon</td>\n",
              "      <td>10268</td>\n",
              "      <td>55.0</td>\n",
              "      <td>307.0</td>\n",
              "      <td>230.8583</td>\n",
              "      <td>29.2249</td>\n",
              "      <td>1</td>\n",
              "      <td>1</td>\n",
              "      <td>127</td>\n",
              "      <td>1378295</td>\n",
              "      <td>1268519</td>\n",
              "    </tr>\n",
              "  </tbody>\n",
              "</table>\n",
              "</div>"
            ],
            "text/plain": [
              "   Unnamed: 0                 rawid              roi  ...   id      icv      tbv\n",
              "0           1  kirby127a_3_1_ax.img  Telencephalon_L  ...  127  1378295  1268519\n",
              "1           2  kirby127a_3_1_ax.img  Telencephalon_R  ...  127  1378295  1268519\n",
              "2           3  kirby127a_3_1_ax.img   Diencephalon_L  ...  127  1378295  1268519\n",
              "3           4  kirby127a_3_1_ax.img   Diencephalon_R  ...  127  1378295  1268519\n",
              "4           5  kirby127a_3_1_ax.img    Mesencephalon  ...  127  1378295  1268519\n",
              "\n",
              "[5 rows x 13 columns]"
            ]
          },
          "metadata": {
            "tags": []
          },
          "execution_count": 20
        }
      ]
    },
    {
      "cell_type": "code",
      "metadata": {
        "id": "wDvnpqQeU301",
        "colab_type": "code",
        "colab": {}
      },
      "source": [
        "#linear regression model\n",
        "left = dt.loc[(dt.roi == 'Diencephalon_L')]\n",
        "right = dt.loc[(dt.roi == 'Diencephalon_R')]\n",
        "\n",
        "vol_left = np.array(left['volume'])\n",
        "vol_right = np.array(right['volume'])\n",
        "\n",
        "#vol_left = dt.query(\"roi == 'Diencephalon_L' \").volume\n",
        "#vol_right = dt.query(\"roi == 'Diencephalon_R' \").volume\n",
        "\n",
        "#get regression stats\n",
        "slope, intercept, r, p, std_err = st.linregress(vol_right,vol_left)"
      ],
      "execution_count": 0,
      "outputs": []
    },
    {
      "cell_type": "code",
      "metadata": {
        "id": "MYJP8VTxXqqv",
        "colab_type": "code",
        "colab": {
          "base_uri": "https://localhost:8080/",
          "height": 34
        },
        "outputId": "acbccb83-7324-4bb9-de2c-58f37497c292"
      },
      "source": [
        "##define prediction fucntion\n",
        "def predict(s,i,x):\n",
        "  x_pred=np.array(x)\n",
        "  return s*x_pred+i\n",
        "\n",
        "vol_left_pred = predict(slope,intercept,vol_right)\n",
        "err_rate = np.linalg.norm(vol_left - vol_left_pred)**2\n",
        "\n",
        "print(f'In-sample error rate: {err_rate}')\n"
      ],
      "execution_count": 31,
      "outputs": [
        {
          "output_type": "stream",
          "text": [
            "In-sample error rate: 832740.3005383222\n"
          ],
          "name": "stdout"
        }
      ]
    },
    {
      "cell_type": "code",
      "metadata": {
        "id": "OYNhmmK6rEIQ",
        "colab_type": "code",
        "colab": {
          "base_uri": "https://localhost:8080/",
          "height": 50
        },
        "outputId": "75f405e8-44b6-4847-ad93-7b3430c5e0e1"
      },
      "source": [
        "#report other regression coeffs\n",
        "\n",
        "beta1 = st.pearsonr(vol_right,vol_left)[0]*np.std(vol_left) / np.std(vol_right)\n",
        "beta0 = np.mean(vol_left) - np.mean(vol_right) * beta1\n",
        "\n",
        "print(f'Slope (beta0): {beta0}')\n",
        "print(f'Intercept (beta1): {beta1}')\n",
        "\n",
        "#these are the same as slope and intercept from the linregress function"
      ],
      "execution_count": 32,
      "outputs": [
        {
          "output_type": "stream",
          "text": [
            "Slope (beta0): -694.1809221478507\n",
            "Intercept (beta1): 1.0675677731655158\n"
          ],
          "name": "stdout"
        }
      ]
    },
    {
      "cell_type": "code",
      "metadata": {
        "id": "olgm3y14o96q",
        "colab_type": "code",
        "colab": {
          "base_uri": "https://localhost:8080/",
          "height": 312
        },
        "outputId": "e51fc89f-aaaa-403f-c3ef-6de63f3a2e48"
      },
      "source": [
        "#plot data points\n",
        "sb.scatterplot(vol_right,vol_left)\n",
        "\n",
        "#plot predicted\n",
        "sb.lineplot(vol_right, vol_left_pred)\n",
        "  \n",
        "plt.title('Left Diencephalon Volume vs. Right Diencephalon Volume')\n",
        "plt.xlabel('Right Diencephalon Volume')\n",
        "plt.ylabel('Left Diencephalon Volume')"
      ],
      "execution_count": 37,
      "outputs": [
        {
          "output_type": "execute_result",
          "data": {
            "text/plain": [
              "Text(0, 0.5, 'Left Diencephalon Volume')"
            ]
          },
          "metadata": {
            "tags": []
          },
          "execution_count": 37
        },
        {
          "output_type": "display_data",
          "data": {
            "image/png": "[encoded data removed]",
            "text/plain": [
              "<Figure size 432x288 with 1 Axes>"
            ]
          },
          "metadata": {
            "tags": []
          }
        }
      ]
    },
    {
      "cell_type": "markdown",
      "metadata": {
        "id": "M6ebCN4Hz7CG",
        "colab_type": "text"
      },
      "source": [
        "**Question 3**\n",
        "\n",
        "I would propose a product predicting the number of opiod related deaths to the amount of opiod perscipctions issued by state. THis is especially relevant as state legislatures have different means of addressing this epidemi, as misuse and addiction continue to become more prevalent. "
      ]
    }
  ]
}