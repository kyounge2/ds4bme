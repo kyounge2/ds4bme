{
  "nbformat": 4,
  "nbformat_minor": 0,
  "metadata": {
    "colab": {
      "name": "Copy of Copy of notebook5.ipynb",
      "provenance": [],
      "include_colab_link": true
    },
    "kernelspec": {
      "name": "python3",
      "display_name": "Python 3"
    }
  },
  "cells": [
    {
      "cell_type": "markdown",
      "metadata": {
        "id": "view-in-github",
        "colab_type": "text"
      },
      "source": [
        "<a href=\"https://colab.research.google.com/github/kyounge2/my_ds4bme/blob/master/notebook5.ipynb\" target=\"_parent\"><img src=\"https://colab.research.google.com/assets/colab-badge.svg\" alt=\"Open In Colab\"/></a>"
      ]
    },
    {
      "cell_type": "markdown",
      "metadata": {
        "id": "rIzXXVGuR9YM",
        "colab_type": "text"
      },
      "source": [
        "# Linear separable models\n",
        "\n",
        "We've now covered two ways to do prediction with a single variable, classification using logistic regression and prediction using a line and least squares. What if we have several predictiors? \n",
        "\n",
        "In both the logistic and linear regression models, we had a linear predictor, specifically, \n",
        "$$\n",
        "\\eta_i = \\beta_0 + \\beta_1 x_i.\n",
        "$$\n",
        "In the continuous case, we were modeling the expected value of the outcomes as linear. In the binary case, we were assuming that the naturual logarithm of the odds of a 1 outcome was linear. \n",
        "\n",
        "To estimate the unknown parameters, $\\beta_0$ and $\\beta_1$ we minimized\n",
        "$$\n",
        "\\sum_{i=1}^n || y_i - \\eta_i||^2 \n",
        "$$\n",
        "in the linear case and \n",
        "$$\n",
        "-\\sum_{i=1}^n \\left[\n",
        "  Y_i \\eta_i + \\log\\left\\{\\frac{1}{1 + e^\\eta_i} \\right\\} \\right].\n",
        "$$\n",
        "in the binary outcome case (where, recall, $\\eta_i$ depends on the parameters). \n",
        "\n",
        "We can easily extend these models to multiple predictors by assuming that the impact of the multiple predictors is linear and separable. That is,\n",
        "\n",
        "$$\n",
        "\\eta_i = \\beta_0 + \\beta_1 x_{1i} + \\beta_2 x_{2i} + \\ldots \\beta_{p-1} x_{p-1,i}\n",
        "$$\n",
        "\n",
        "If we think about this as vectors and matrices, we obtain\n",
        "\n",
        "$$\n",
        "\\eta = X \\beta\n",
        "$$\n",
        "where $\\eta$ is an $n \\times 1$ vector, $X$ is an $n \\times p$ matrix with $i,j$ entry $x_{ij}$ and $\\beta$ is a $p\\times 1$ vector with entries $\\beta_j$. \n"
      ]
    },
    {
      "cell_type": "markdown",
      "metadata": {
        "id": "ApSoCaMXb4x-",
        "colab_type": "text"
      },
      "source": [
        "Let's look at the voxel-level data that we've been working with. First let's load the data."
      ]
    },
    {
      "cell_type": "code",
      "metadata": {
        "id": "GMMLqAkYRxb5",
        "colab_type": "code",
        "outputId": "1554b409-afe9-477e-9033-ad610a998205",
        "colab": {
          "base_uri": "https://localhost:8080/",
          "height": 217
        }
      },
      "source": [
        "import numpy as np\n",
        "import pandas as pd\n",
        "import seaborn as sns\n",
        "import matplotlib.pyplot as plt\n",
        "import sklearn.linear_model as lm\n",
        "import statsmodels.formula.api as smf\n",
        "import statsmodels as sm\n",
        "\n",
        "## this sets some style parameters\n",
        "sns.set()\n",
        "\n",
        "## Download in the data if it's not already there\n",
        "! if [ ! -e oasis.csv ]; \\\n",
        "then wget https://raw.githubusercontent.com/bcaffo/ds4bme_intro/master/data/oasis.csv; \\\n",
        "fi;\n",
        "\n",
        "## Read in the data and display a few rows\n",
        "dat = pd.read_csv(\"oasis.csv\")"
      ],
      "execution_count": 0,
      "outputs": [
        {
          "output_type": "stream",
          "text": [
            "--2019-08-09 14:09:26--  https://raw.githubusercontent.com/bcaffo/ds4bme_intro/master/data/oasis.csv\n",
            "Resolving raw.githubusercontent.com (raw.githubusercontent.com)... 151.101.0.133, 151.101.64.133, 151.101.128.133, ...\n",
            "Connecting to raw.githubusercontent.com (raw.githubusercontent.com)|151.101.0.133|:443... connected.\n",
            "HTTP request sent, awaiting response... 200 OK\n",
            "Length: 22274 (22K) [text/plain]\n",
            "Saving to: ‘oasis.csv’\n",
            "\n",
            "\roasis.csv             0%[                    ]       0  --.-KB/s               \roasis.csv           100%[===================>]  21.75K  --.-KB/s    in 0.01s   \n",
            "\n",
            "2019-08-09 14:09:26 (1.79 MB/s) - ‘oasis.csv’ saved [22274/22274]\n",
            "\n"
          ],
          "name": "stdout"
        }
      ]
    },
    {
      "cell_type": "markdown",
      "metadata": {
        "id": "HUih09BMdi9_",
        "colab_type": "text"
      },
      "source": [
        "Let's first try to fit the proton density data from the other imaging data. I'm going to use the `statsmodels` version of linear models since it has a nice format for dataframes."
      ]
    },
    {
      "cell_type": "code",
      "metadata": {
        "id": "Onw6CyaCdrtz",
        "colab_type": "code",
        "colab": {}
      },
      "source": [
        "trainFraction = .75\n",
        "\n",
        "sample = np.random.uniform(size = 100) < trainFraction\n",
        "trainingDat = dat[sample]\n",
        "testingDat = dat[~sample]"
      ],
      "execution_count": 0,
      "outputs": []
    },
    {
      "cell_type": "code",
      "metadata": {
        "id": "fDJOnSsxe2N5",
        "colab_type": "code",
        "outputId": "b3c97b39-e9ac-496b-8944-ffa77f9fdb9b",
        "colab": {
          "base_uri": "https://localhost:8080/",
          "height": 507
        }
      },
      "source": [
        "results = smf.ols('PD ~ FLAIR + T1 + T2  + FLAIR_10 + T1_10 + T2_10 + FLAIR_20', data = trainingDat).fit()\n",
        "print(results.summary2())"
      ],
      "execution_count": 0,
      "outputs": [
        {
          "output_type": "stream",
          "text": [
            "                 Results: Ordinary least squares\n",
            "=================================================================\n",
            "Model:              OLS              Adj. R-squared:     0.723   \n",
            "Dependent Variable: PD               AIC:                63.8377 \n",
            "Date:               2019-08-09 14:09 BIC:                82.3776 \n",
            "No. Observations:   75               Log-Likelihood:     -23.919 \n",
            "Df Model:           7                F-statistic:        28.62   \n",
            "Df Residuals:       67               Prob (F-statistic): 8.11e-18\n",
            "R-squared:          0.749            Scale:              0.12403 \n",
            "------------------------------------------------------------------\n",
            "               Coef.   Std.Err.     t     P>|t|    [0.025   0.975]\n",
            "------------------------------------------------------------------\n",
            "Intercept      0.2338    0.1390   1.6816  0.0973  -0.0437   0.5112\n",
            "FLAIR          0.0176    0.0861   0.2040  0.8390  -0.1542   0.1894\n",
            "T1            -0.2587    0.0882  -2.9342  0.0046  -0.4347  -0.0827\n",
            "T2             0.5555    0.0864   6.4306  0.0000   0.3831   0.7279\n",
            "FLAIR_10      -0.2139    0.3403  -0.6286  0.5318  -0.8930   0.4653\n",
            "T1_10          0.2176    0.1933   1.1257  0.2643  -0.1682   0.6034\n",
            "T2_10          0.0212    0.2697   0.0785  0.9376  -0.5171   0.5595\n",
            "FLAIR_20       1.7793    0.7012   2.5373  0.0135   0.3796   3.1790\n",
            "-----------------------------------------------------------------\n",
            "Omnibus:              2.734        Durbin-Watson:           2.058\n",
            "Prob(Omnibus):        0.255        Jarque-Bera (JB):        2.076\n",
            "Skew:                 0.388        Prob(JB):                0.354\n",
            "Kurtosis:             3.249        Condition No.:           39   \n",
            "=================================================================\n",
            "\n"
          ],
          "name": "stdout"
        }
      ]
    },
    {
      "cell_type": "markdown",
      "metadata": {
        "id": "iaXw2nFg6UoO",
        "colab_type": "text"
      },
      "source": [
        "## Aside different python packages\n",
        "\n",
        "So far we've explored several plotting libraries including: default pandas methods, matplotlib, seaborn and plotly. We've also looked at several fitting libraries including to some extent numpy, but especially scikitlearn and statsmodels. What's the difference? Well, these packages are all mantained by different people and have different features and goals. For example, scikitlearn is more expansive than statsmodels, but statsmodels functions more like one is used to with statistical output. Matplotlib is very expansive, but seaborn has nicer default options and is a little easier. So, when doing data science with python, one has to get used to trying out a few packages, weighing the cost and benefits of each, and picking one. \n",
        "\n",
        "'statsmodels', what we're using here, has multiple methods for fitting binary models including: `sm.Logit`, `smf.logit`, `BinaryModel` and `glm`. Here I'm just going to use `Logit` which does not use the formula syntax of `logit`. Note, by default, this does not add an intercept this way. So, I'm adding a column of ones, which adds an intercept.\n",
        "\n"
      ]
    },
    {
      "cell_type": "code",
      "metadata": {
        "id": "7UrWqsZAfF1u",
        "colab_type": "code",
        "colab": {}
      },
      "source": [
        "x = dat[['FLAIR','T1', 'T2', 'FLAIR_10', 'T1_10', 'T2_10', 'FLAIR_20']]\n",
        "y = dat[['GOLD_Lesions']]\n",
        "## Add the intercept column\n",
        "x = sm.add_constant(x)\n",
        "\n",
        "xtraining = x[sample]\n",
        "xtesting = x[~sample]\n",
        "ytraining = y[sample]\n",
        "ytesting = y[~sample]\n"
      ],
      "execution_count": 0,
      "outputs": []
    },
    {
      "cell_type": "code",
      "metadata": {
        "id": "MaU1zUQluyFb",
        "colab_type": "code",
        "outputId": "0f3ccb21-1f45-4b74-fd52-300c81c82798",
        "colab": {
          "base_uri": "https://localhost:8080/",
          "height": 71
        }
      },
      "source": [
        "fit = sm.Logit(ytraining, xtraining).fit()"
      ],
      "execution_count": 0,
      "outputs": [
        {
          "output_type": "stream",
          "text": [
            "Optimization terminated successfully.\n",
            "         Current function value: 0.248051\n",
            "         Iterations 8\n"
          ],
          "name": "stdout"
        }
      ]
    },
    {
      "cell_type": "code",
      "metadata": {
        "id": "clrxtIgQvDhJ",
        "colab_type": "code",
        "outputId": "b9e7953a-6189-4c1f-8ffc-f74fd9d7b7d1",
        "colab": {
          "base_uri": "https://localhost:8080/",
          "height": 365
        }
      },
      "source": [
        "fit.summary()"
      ],
      "execution_count": 0,
      "outputs": [
        {
          "output_type": "execute_result",
          "data": {
            "text/html": [
              "<table class=\"simpletable\">\n",
              "<caption>Logit Regression Results</caption>\n",
              "<tr>\n",
              "  <th>Dep. Variable:</th>     <td>GOLD_Lesions</td>   <th>  No. Observations:  </th>  <td>    75</td>  \n",
              "</tr>\n",
              "<tr>\n",
              "  <th>Model:</th>                 <td>Logit</td>      <th>  Df Residuals:      </th>  <td>    67</td>  \n",
              "</tr>\n",
              "<tr>\n",
              "  <th>Method:</th>                 <td>MLE</td>       <th>  Df Model:          </th>  <td>     7</td>  \n",
              "</tr>\n",
              "<tr>\n",
              "  <th>Date:</th>            <td>Fri, 09 Aug 2019</td> <th>  Pseudo R-squ.:     </th>  <td>0.6384</td>  \n",
              "</tr>\n",
              "<tr>\n",
              "  <th>Time:</th>                <td>14:21:37</td>     <th>  Log-Likelihood:    </th> <td> -18.604</td> \n",
              "</tr>\n",
              "<tr>\n",
              "  <th>converged:</th>             <td>True</td>       <th>  LL-Null:           </th> <td> -51.445</td> \n",
              "</tr>\n",
              "<tr>\n",
              "  <th>Covariance Type:</th>     <td>nonrobust</td>    <th>  LLR p-value:       </th> <td>1.097e-11</td>\n",
              "</tr>\n",
              "</table>\n",
              "<table class=\"simpletable\">\n",
              "<tr>\n",
              "      <td></td>        <th>coef</th>     <th>std err</th>      <th>z</th>      <th>P>|z|</th>  <th>[0.025</th>    <th>0.975]</th>  \n",
              "</tr>\n",
              "<tr>\n",
              "  <th>const</th>    <td>   -3.6553</td> <td>    1.728</td> <td>   -2.115</td> <td> 0.034</td> <td>   -7.042</td> <td>   -0.268</td>\n",
              "</tr>\n",
              "<tr>\n",
              "  <th>FLAIR</th>    <td>    1.5571</td> <td>    1.148</td> <td>    1.356</td> <td> 0.175</td> <td>   -0.693</td> <td>    3.808</td>\n",
              "</tr>\n",
              "<tr>\n",
              "  <th>T1</th>       <td>    2.7127</td> <td>    1.115</td> <td>    2.432</td> <td> 0.015</td> <td>    0.526</td> <td>    4.899</td>\n",
              "</tr>\n",
              "<tr>\n",
              "  <th>T2</th>       <td>    1.6682</td> <td>    1.112</td> <td>    1.500</td> <td> 0.134</td> <td>   -0.512</td> <td>    3.848</td>\n",
              "</tr>\n",
              "<tr>\n",
              "  <th>FLAIR_10</th> <td>    7.3421</td> <td>    3.898</td> <td>    1.884</td> <td> 0.060</td> <td>   -0.298</td> <td>   14.982</td>\n",
              "</tr>\n",
              "<tr>\n",
              "  <th>T1_10</th>    <td>    1.5368</td> <td>    1.827</td> <td>    0.841</td> <td> 0.400</td> <td>   -2.044</td> <td>    5.118</td>\n",
              "</tr>\n",
              "<tr>\n",
              "  <th>T2_10</th>    <td>   -6.8864</td> <td>    3.737</td> <td>   -1.843</td> <td> 0.065</td> <td>  -14.210</td> <td>    0.437</td>\n",
              "</tr>\n",
              "<tr>\n",
              "  <th>FLAIR_20</th> <td>  -15.8399</td> <td>    7.742</td> <td>   -2.046</td> <td> 0.041</td> <td>  -31.014</td> <td>   -0.665</td>\n",
              "</tr>\n",
              "</table>"
            ],
            "text/plain": [
              "<class 'statsmodels.iolib.summary.Summary'>\n",
              "\"\"\"\n",
              "                           Logit Regression Results                           \n",
              "==============================================================================\n",
              "Dep. Variable:           GOLD_Lesions   No. Observations:                   75\n",
              "Model:                          Logit   Df Residuals:                       67\n",
              "Method:                           MLE   Df Model:                            7\n",
              "Date:                Fri, 09 Aug 2019   Pseudo R-squ.:                  0.6384\n",
              "Time:                        14:21:37   Log-Likelihood:                -18.604\n",
              "converged:                       True   LL-Null:                       -51.445\n",
              "Covariance Type:            nonrobust   LLR p-value:                 1.097e-11\n",
              "==============================================================================\n",
              "                 coef    std err          z      P>|z|      [0.025      0.975]\n",
              "------------------------------------------------------------------------------\n",
              "const         -3.6553      1.728     -2.115      0.034      -7.042      -0.268\n",
              "FLAIR          1.5571      1.148      1.356      0.175      -0.693       3.808\n",
              "T1             2.7127      1.115      2.432      0.015       0.526       4.899\n",
              "T2             1.6682      1.112      1.500      0.134      -0.512       3.848\n",
              "FLAIR_10       7.3421      3.898      1.884      0.060      -0.298      14.982\n",
              "T1_10          1.5368      1.827      0.841      0.400      -2.044       5.118\n",
              "T2_10         -6.8864      3.737     -1.843      0.065     -14.210       0.437\n",
              "FLAIR_20     -15.8399      7.742     -2.046      0.041     -31.014      -0.665\n",
              "==============================================================================\n",
              "\"\"\""
            ]
          },
          "metadata": {
            "tags": []
          },
          "execution_count": 33
        }
      ]
    },
    {
      "cell_type": "markdown",
      "metadata": {
        "id": "EkCEdWt0xGzn",
        "colab_type": "text"
      },
      "source": [
        "Now let's evaluate our prediction. Here, we're not going to classify as 0 or 1, but rather estimate the prediction. Note, we then would need to pick a threshold to have a classifier. We could use .5 as our threshold. However, it's often the case that we don't necessarily want to threshold at specifically that level. A solution for evalution is to plot how the sensitivity and specificity change by the threshold. \n",
        "\n",
        "In other words, consider the triplets\n",
        "$$\n",
        "(t, sens(t), spec(t))\n",
        "$$\n",
        "where $t$ is the threshold, `sens(t)` is the sensitivity at threshold $t$, `spec(t)` is the specificity at threshold `t`. \n",
        "\n",
        "Necessarily, the sensitivity and specificity \n",
        "\n"
      ]
    },
    {
      "cell_type": "code",
      "metadata": {
        "id": "zxlcuTECxCyQ",
        "colab_type": "code",
        "colab": {}
      },
      "source": [
        "phatTesting = fit.predict(xtesting)"
      ],
      "execution_count": 0,
      "outputs": []
    }
  ]
}