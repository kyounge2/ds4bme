{
  "nbformat": 4,
  "nbformat_minor": 0,
  "metadata": {
    "colab": {
      "name": "notebook4.ipynb",
      "version": "0.3.2",
      "provenance": [],
      "collapsed_sections": [],
      "include_colab_link": true
    },
    "kernelspec": {
      "name": "python3",
      "display_name": "Python 3"
    }
  },
  "cells": [
    {
      "cell_type": "markdown",
      "metadata": {
        "id": "view-in-github",
        "colab_type": "text"
      },
      "source": [
        "<a href=\"https://colab.research.google.com/github/kyounge2/my_ds4bme/blob/master/notebook4.ipynb\" target=\"_parent\"><img src=\"https://colab.research.google.com/assets/colab-badge.svg\" alt=\"Open In Colab\"/></a>"
      ]
    },
    {
      "cell_type": "code",
      "metadata": {
        "id": "mcjcYdazhXUX",
        "colab_type": "code",
        "colab": {}
      },
      "source": [
        "# Classification with one continuous variable"
      ],
      "execution_count": 0,
      "outputs": []
    },
    {
      "cell_type": "markdown",
      "metadata": {
        "id": "09w3TFe3g3Y2",
        "colab_type": "text"
      },
      "source": [
        "Suppose now that we want to predict the gold standard from the FLAIR values. Fitting a line seems weird, since the outcome can only be 0 or 1. A line would allow for arbitrarily small or large predictions. Similiarly, forcing the prediction to be exactly 0 or 1 leads to difficult optimization problems. A clever solution is to instead model\n",
        "\n",
        "$$\n",
        "P(Y_i = 1 ~|~ X_i)\n",
        "$$\n",
        "\n",
        "where $Y_i$ is the gold standard value (0 or 1 for no lesion or lesion at that voxel, respectively) and $X_i$ is the FLAIR value for voxel $i$. This solves the problem somewhat nicely, but it still leaves some issues unresolved. For example, what does probability even mean in this context? And also probabilities are between 0 and 1, that's better than exactly 0 or 1, but still would create problems.\n",
        "\n",
        "For the probability, it's generally a good idea to think about what you're modeling as random in the context. In this case, we're thinking of our voxels as a random sample of FLAIR and gold standard voxel values from some population. This is a meaningful benchmark even if it's not true. We'll find that often in statistics we model data as if it comes from a probability distribution when we know it didn't. We simply know that the probability distribution is a useful model for thinking about the problem.\n",
        "\n",
        "As for getting the probabilities from $[0,1]$ to $(-\\infty, \\infty)$, we need a function, preferably a monotonic one. The generally agreed upon choice is the logit (natural log of the odds) function. The logit function of a probability is defined as\n",
        "\n",
        "$$\n",
        "\\eta = \\mathrm{logit}(p) = \\log\\{p / (1 - p\\}\n",
        "$$\n",
        "\n",
        "where $p$ is the probability and $O = p/(1-p)$ is called the **odds**. Note, you can go backwards from odds to probability with the function $p = O / (1 + O)$. Odds are exactly as used in gambling. If the odds of bet at 1 to 99, then you are saying the probability is $1 / (99 + 1) = 1\\%$. \n",
        "\n",
        "You can go backwards from the logit function to the probability with the expit function. That is, if $\\eta$ is defined as above, then\n",
        "$$\n",
        "p = \\frac{e^{\\eta}}{1 + e^\\eta} = \\frac{1}{1 + e^{-\\eta}}.\n",
        "$$\n",
        "This is sometimes called the **expit** function or **sigmoid**.\n",
        "\n",
        "\n",
        "We model the log of the odds as linear. This is called **logistic regression**.\n",
        "\n",
        "$$\n",
        "\\eta = \\mathrm{logit}\\left\\{ P(Y = 1 ~|~ X) \\right\\}\n",
        "= \\beta_0 + \\beta_1 X.\n",
        "$$\n",
        "\n",
        "The nice part about this model is that $e^\\beta_1$ has the nice interpretation of the odds ratio associated with a one unit change in $X$.\n",
        "\n",
        "This is great, but we still need a function of the probabilities to optimize. We'll use the **cross entropy**. \n",
        "$$\n",
        "-\\sum_{i=1}^n \\left[Y_i \\log\\{P(Y_i = 1 ~|~ X_i)\\} + (1 - Y_i) \\log\\{1 - P(Y_i = 1 ~|~ X_i)\\}\\right].\n",
        "$$\n",
        "This function has the interpretation of being the negative of the log of the probabilities assuming the $Y_i$ are independent. This model doesn't have to hold for the minimization to be useful. \n",
        "\n",
        "Plugging our logit model in, the cross entropy now looks like\n",
        "$$\n",
        "-\\sum_{i=1}^n \\left[\n",
        "  Y_i \\eta_i + \\log\\left\\{\\frac{1}{1 + e^\\eta_i} \\right\\} \\right].\n",
        "$$\n",
        "This is the function that we minimize to perform logistic regression. Later on, we'll worry about minimizing this function. However, today, let's fit logistic regression to some data.\n"
      ]
    },
    {
      "cell_type": "code",
      "metadata": {
        "id": "ifAqCb45ib3s",
        "colab_type": "code",
        "colab": {}
      },
      "source": [
        "import numpy as np\n",
        "import pandas as pd\n",
        "import seaborn as sns\n",
        "import matplotlib.pyplot as plt\n",
        "import sklearn.linear_model as lm\n",
        "## this sets some style parameters\n",
        "sns.set()\n",
        "\n",
        "## Download in the data if it's not already there\n",
        "! if [ ! -e oasis.csv ]; \\\n",
        "then wget https://raw.githubusercontent.com/bcaffo/ds4bme_intro/master/data/oasis.csv; \\\n",
        "fi;\n",
        "\n",
        "## Read in the data and display a few rows\n",
        "dat = pd.read_csv(\"oasis.csv\")"
      ],
      "execution_count": 0,
      "outputs": []
    },
    {
      "cell_type": "code",
      "metadata": {
        "id": "y6wr4aBFiuAS",
        "colab_type": "code",
        "outputId": "6fa64714-f4cf-4e8e-ba00-97cdf05ada24",
        "colab": {
          "base_uri": "https://localhost:8080/",
          "height": 309
        }
      },
      "source": [
        "## Plot the data\n",
        "sns.scatterplot('FLAIR', 'GOLD_Lesions', data = dat)\n"
      ],
      "execution_count": 0,
      "outputs": [
        {
          "output_type": "execute_result",
          "data": {
            "text/plain": [
              "<matplotlib.axes._subplots.AxesSubplot at 0x7fa971b61ac8>"
            ]
          },
          "metadata": {
            "tags": []
          },
          "execution_count": 4
        },
        {
          "output_type": "display_data",
          "data": {
            "image/png": "[encoded data removed]",
            "text/plain": [
              "<Figure size 432x288 with 1 Axes>"
            ]
          },
          "metadata": {
            "tags": []
          }
        }
      ]
    },
    {
      "cell_type": "markdown",
      "metadata": {
        "id": "x_z1yMIuqaij",
        "colab_type": "text"
      },
      "source": [
        "Let's now fit the model. Again we're going to split into training and test data. But, now we're not going to do it manually since we have to load a library that has a function to do this."
      ]
    },
    {
      "cell_type": "code",
      "metadata": {
        "id": "3e1JpcHcqkUB",
        "colab_type": "code",
        "colab": {}
      },
      "source": [
        "x = dat[['FLAIR']]\n",
        "y = dat.GOLD_Lesions\n",
        "trainFraction = .75\n",
        "\n",
        "## Once again hold out some data\n",
        "sample = np.random.uniform(size = 100) < trainFraction\n",
        "xtrain = x[ sample]\n",
        "ytrain = y[ sample]\n",
        "xtest =  x[~sample]\n",
        "ytest =  y[~sample]\n"
      ],
      "execution_count": 0,
      "outputs": []
    },
    {
      "cell_type": "code",
      "metadata": {
        "id": "Ap2VTA3yr5Nm",
        "colab_type": "code",
        "colab": {}
      },
      "source": [
        "lr = lm.LogisticRegression(fit_intercept=True, penalty='none')\n",
        "fit = lr.fit(xtrain, ytrain)"
      ],
      "execution_count": 0,
      "outputs": []
    },
    {
      "cell_type": "markdown",
      "metadata": {
        "id": "sM07ock_hp1w",
        "colab_type": "text"
      },
      "source": [
        "Let's look at the parameters fit from the model"
      ]
    },
    {
      "cell_type": "code",
      "metadata": {
        "id": "tH0jHnilhtTU",
        "colab_type": "code",
        "outputId": "c4aaff10-2e29-4385-b3da-751844074f5a",
        "colab": {
          "base_uri": "https://localhost:8080/",
          "height": 35
        }
      },
      "source": [
        "beta0, beta1 = [fit.intercept_[0], fit.coef_[0][0]]\n",
        "[beta0, beta1]"
      ],
      "execution_count": 0,
      "outputs": [
        {
          "output_type": "execute_result",
          "data": {
            "text/plain": [
              "[-1.5717918193399025, 1.0476494190434424]"
            ]
          },
          "metadata": {
            "tags": []
          },
          "execution_count": 93
        }
      ]
    },
    {
      "cell_type": "code",
      "metadata": {
        "id": "etcphjtOu8F-",
        "colab_type": "code",
        "outputId": "e7b13a81-9e1a-4f20-a56e-ca008f1dc1ca",
        "colab": {
          "base_uri": "https://localhost:8080/",
          "height": 309
        }
      },
      "source": [
        "n = 1000\n",
        "xplot = np.linspace(-1, 5, n)\n",
        "eta = beta0 + beta1 * xplot\n",
        "p = 1 / (1 + np.exp(-eta))\n",
        "\n",
        "sns.scatterplot('FLAIR', 'GOLD_Lesions', data = dat, hue = 'GOLD_Lesions')\n",
        "sns.lineplot(xplot, p)\n",
        "\n",
        "## Of course, scikit has a predict\n",
        "## function so that you don't have to do this manually\n",
        "#yplot = fit.predict_proba(xplot.reshape((n, 1)))\n",
        "#sns.lineplot(xplot, yplot[:, 1])\n"
      ],
      "execution_count": 0,
      "outputs": [
        {
          "output_type": "execute_result",
          "data": {
            "text/plain": [
              "<matplotlib.axes._subplots.AxesSubplot at 0x7fa96c453f60>"
            ]
          },
          "metadata": {
            "tags": []
          },
          "execution_count": 100
        },
        {
          "output_type": "display_data",
          "data": {
            "image/png": "[encoded data removed]",
            "text/plain": [
              "<Figure size 432x288 with 1 Axes>"
            ]
          },
          "metadata": {
            "tags": []
          }
        }
      ]
    },
    {
      "cell_type": "markdown",
      "metadata": {
        "id": "_klq2nybjmnJ",
        "colab_type": "text"
      },
      "source": [
        "Now let's evaluate the test set."
      ]
    },
    {
      "cell_type": "code",
      "metadata": {
        "id": "zYG1FVHqhQRt",
        "colab_type": "code",
        "outputId": "50965fb0-c197-4ce4-e872-c9fc8fe6686e",
        "colab": {
          "base_uri": "https://localhost:8080/",
          "height": 35
        }
      },
      "source": [
        "## This predicts the classes using a 50% probability cutoff\n",
        "yhat_test = fit.predict(xtest)\n",
        "\n",
        "## double checking that if you want\n",
        "#all(yhat_test == (fit.predict_proba(xtest)[:, 1] > .5))\n",
        "\n",
        "accuracy = np.mean(yhat_test == ytest)\n",
        "sensitivity = np.mean(yhat_test[ytest == 1] == ytest[ytest == 1])\n",
        "specificity = np.mean(yhat_test[ytest == 0] == ytest[ytest == 0])\n",
        "np.round([accuracy, sensitivity, specificity], 3)\n"
      ],
      "execution_count": 0,
      "outputs": [
        {
          "output_type": "execute_result",
          "data": {
            "text/plain": [
              "array([0.783, 0.8  , 0.769])"
            ]
          },
          "metadata": {
            "tags": []
          },
          "execution_count": 116
        }
      ]
    }
  ]
}