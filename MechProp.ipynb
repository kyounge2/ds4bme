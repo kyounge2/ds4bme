{
  "nbformat": 4,
  "nbformat_minor": 0,
  "metadata": {
    "colab": {
      "name": "MechProp.ipynb",
      "provenance": [],
      "include_colab_link": true
    },
    "kernelspec": {
      "name": "python3",
      "display_name": "Python 3"
    }
  },
  "cells": [
    {
      "cell_type": "markdown",
      "metadata": {
        "id": "view-in-github",
        "colab_type": "text"
      },
      "source": [
        "<a href=\"https://colab.research.google.com/github/kyounge2/my_ds4bme/blob/master/MechProp.ipynb\" target=\"_parent\"><img src=\"https://colab.research.google.com/assets/colab-badge.svg\" alt=\"Open In Colab\"/></a>"
      ]
    },
    {
      "cell_type": "code",
      "metadata": {
        "id": "LAioDga9p0X3",
        "colab_type": "code",
        "colab": {}
      },
      "source": [
        "import numpy as np"
      ],
      "execution_count": 0,
      "outputs": []
    },
    {
      "cell_type": "markdown",
      "metadata": {
        "id": "qiPGYt3rqMhC",
        "colab_type": "text"
      },
      "source": [
        "(b)\tUsing a computer language of your choice, write a function to calculate the modulus of elasticity of Au, E_hkl, for an arbitrary direction [hkl]. Use your function to calculate E_[100], E_[110], and E_[111]. When you submit your solution, provide both your source code for your function as well as your numerical answers. (Hint: You may either derive a general expression for Ehkl to use as the basis for your function, or look it up.)"
      ]
    },
    {
      "cell_type": "code",
      "metadata": {
        "id": "e0E3s5rXqbqf",
        "colab_type": "code",
        "colab": {}
      },
      "source": [
        "# define fucntion \n",
        "def find_moe(h,k,l):\n",
        "  ## input direction\n",
        "  dir = [h,k,l]\n",
        "  sig = ([1,0,0],[0,0,0],[0,0,0])\n",
        "  \n",
        "  # calculate a\n",
        "  a_11 = np.dot(dir,[1,0,0])/np.sqrt(h**2+k**2+l**2)\n",
        "  a_21 = np.dot(dir,[0,1,0])/np.sqrt(h**2+k**2+l**2)\n",
        "  a_31 = np.dot(dir,[0,0,1])/np.sqrt(h**2+k**2+l**2)\n",
        "  \n",
        "  # unit cell system rotation - direction cosines\n",
        "  a_ij = ([a_11,a_21,a_31])\n",
        "  #sig_p = ([a_11**2,0,0],[0,a_21**2,a_21*a_31],[0,0,a_31**2])\n",
        "  eps_6 = ([a_11**2],[a_21**2],[a_31**2],[a_21*a_31],[a_11*a_31],[a_11*a_21])\n",
        "\n",
        "  # Hooke's Law\n",
        "  C_ij=([189,159,159,0,0,0],[159,189,159,0,0,0],[159,159,189,0,0,0],[0,0,0,42.6,0,0],[0,0,0,0,42.6,0],[0,0,0,0,0,42.6])\n",
        "  S_ij = np.linalg.inv(C_ij)\n",
        "  \n",
        "  # transform to original coordinate system\n",
        "  S_11=S_ij[0,0]\n",
        "  S_12 = S_ij[0,1]\n",
        "  S_44 = S_ij[3,3]\n",
        "  E_inv = S_11-2*((S_11- S_12)-0.5*(S_44))*(a_11**2*a_21**2+a_21**2*a_31**2+a_11**2*a_31**2)\n",
        "  E=1/E_inv\n",
        "  return E"
      ],
      "execution_count": 0,
      "outputs": []
    },
    {
      "cell_type": "code",
      "metadata": {
        "id": "7jCj5cA6BIwp",
        "colab_type": "code",
        "outputId": "17844a27-a297-4eb3-9c79-c87c70a4d8d2",
        "colab": {
          "base_uri": "https://localhost:8080/",
          "height": 118
        }
      },
      "source": [
        "print('E_100:')\n",
        "print(find_moe(1,0,0))\n",
        "\n",
        "print('E_110:')\n",
        "print(find_moe(1,1,0))\n",
        "\n",
        "print('E_111:')\n",
        "print(find_moe(1,1,1))"
      ],
      "execution_count": 0,
      "outputs": [
        {
          "output_type": "stream",
          "text": [
            "E_100:\n",
            "43.706896551724135\n",
            "E_110:\n",
            "82.77075189698776\n",
            "E_111:\n",
            "117.89410480349352\n"
          ],
          "name": "stdout"
        }
      ]
    },
    {
      "cell_type": "code",
      "metadata": {
        "id": "sHBDncmrrTOn",
        "colab_type": "code",
        "outputId": "ebeb8972-e543-481e-8982-00f4906afa4b",
        "colab": {
          "base_uri": "https://localhost:8080/",
          "height": 34
        }
      },
      "source": [
        "h=1\n",
        "k=1\n",
        "l=3\n",
        "dir = [h,k,l]\n",
        "a_11 = np.dot(dir,[1,0,0])/np.sqrt(h**2+k**2+l**2)\n",
        "\n",
        "# calculate a\n",
        "a_11 = np.dot(dir,[1,0,0])/np.sqrt(h**2+k**2+l**2)\n",
        "a_21 = np.dot(dir,[0,1,0])/np.sqrt(h**2+k**2+l**2)\n",
        "a_31 = np.dot(dir,[0,0,1])/np.sqrt(h**2+k**2+l**2)\n",
        "\n",
        "# unit cell system rotation\n",
        "a_ij = ([a_11,a_21,a_31])\n",
        "sig_6 = ([a_11**2],[a_21**2],[a_31**2],[a_21*a_31],[a_11*a_31],[a_11*a_21])\n",
        "C_ij=([189,159,159,0,0,0],[159,189,159,0,0,0],[159,159,189,0,0,0],[0,0,0,42.6,0,0],[0,0,0,0,42.6,0],[0,0,0,0,0,42.6])\n",
        "sig_6 = np.dot(C_ij,sig_6)\n",
        "S_ij = np.linalg.inv(C_ij)\n",
        "S_11=S_ij[0,0]\n",
        "S_12 = S_ij[0,1]\n",
        "S_44 = S_ij[3,3]\n",
        "E_inv = S_11-2*((S_11- S_12)-0.5*(S_44))*(a_11**2*a_21**2+a_21**2*a_31**2+a_11**2*a_31**2)\n",
        "\n",
        "print(1/E_inv)\n"
      ],
      "execution_count": 0,
      "outputs": [
        {
          "output_type": "stream",
          "text": [
            "62.1218608445626\n"
          ],
          "name": "stdout"
        }
      ]
    }
  ]
}